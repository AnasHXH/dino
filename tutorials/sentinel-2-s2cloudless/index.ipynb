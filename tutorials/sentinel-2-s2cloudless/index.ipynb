{
  "nbformat": 4,
  "nbformat_minor": 0,
  "metadata": {
    "colab": {
      "name": "Sentinel-2 Cloud Masking with s2cloudless",
      "provenance": []
    },
    "kernelspec": {
      "display_name": "Python 3",
      "name": "python3"
    }
  },
  "cells": [
    {
      "cell_type": "code",
      "metadata": {
        "id": "8kdsGkYJXXKc"
      },
      "source": [
        "#@title Copyright 2020 The Earth Engine Community Authors { display-mode: \"form\" }\n",
        "#\n",
        "# Licensed under the Apache License, Version 2.0 (the \"License\");\n",
        "# you may not use this file except in compliance with the License.\n",
        "# You may obtain a copy of the License at\n",
        "#\n",
        "# https://www.apache.org/licenses/LICENSE-2.0\n",
        "#\n",
        "# Unless required by applicable law or agreed to in writing, software\n",
        "# distributed under the License is distributed on an \"AS IS\" BASIS,\n",
        "# WITHOUT WARRANTIES OR CONDITIONS OF ANY KIND, either express or implied.\n",
        "# See the License for the specific language governing permissions and\n",
        "# limitations under the License."
      ],
      "execution_count": null,
      "outputs": []
    },
    {
      "cell_type": "markdown",
      "metadata": {
        "id": "l18M9_r5XmAQ"
      },
      "source": [
        "# Sentinel-2 Cloud Masking with s2cloudless\n",
        "\n",
        "Author: jdbcode\n"
      ]
    },
    {
      "cell_type": "markdown",
      "metadata": {
        "id": "h2i3NKIk4nWq"
      },
      "source": [
        "This tutorial is an introduction to masking clouds and cloud shadows in Sentinel-2 (S2) surface reflectance (SR) data using Earth Engine. Clouds are identified from the S2 cloud probability dataset (s2cloudless) and shadows are defined by cloud projection intersection with low-reflectance near-infrared (NIR) pixels.\n",
        "\n",
        "For a similar JavaScript API script, see this [Code Editor example](https://code.earthengine.google.com/?scriptPath=Examples%3ACloud%20Masking%2FSentinel2%20Cloud%20And%20Shadow)."
      ]
    },
    {
      "cell_type": "markdown",
      "metadata": {
        "id": "U7i55vr_aKCB"
      },
      "source": [
        "### Run me first\n",
        "\n",
        "Run the following cell to initialize the Earth Engine API. The output will contain instructions on how to grant this notebook access to Earth Engine using your account."
      ]
    },
    {
      "cell_type": "code",
      "metadata": {
        "id": "XeFsiSp2aDL6",
        "colab": {
          "base_uri": "https://localhost:8080/"
        },
        "outputId": "f829d1c0-a6d1-4f2e-aef0-05b7760954bc"
      },
      "source": [
        "import ee\n",
        "\n",
        "# Trigger the authentication flow.\n",
        "ee.Authenticate()\n",
        "\n",
        "# Initialize the library.\n",
        "ee.Initialize(project='refusion')"
      ],
      "execution_count": 2,
      "outputs": [
        {
          "output_type": "stream",
          "name": "stderr",
          "text": [
            "*** Earth Engine *** Share your feedback by taking our Annual Developer Satisfaction Survey: https://google.qualtrics.com/jfe/form/SV_7TDKVSyKvBdmMqW?ref=4i2o6\n"
          ]
        }
      ]
    },
    {
      "cell_type": "code",
      "source": [
        "from google.colab import drive\n",
        "drive.mount('/content/drive')"
      ],
      "metadata": {
        "id": "C_CSmac5ab33",
        "outputId": "a76affe6-1bda-4084-ffe4-7c21063f9287",
        "colab": {
          "base_uri": "https://localhost:8080/"
        }
      },
      "execution_count": 1,
      "outputs": [
        {
          "output_type": "stream",
          "name": "stdout",
          "text": [
            "Mounted at /content/drive\n"
          ]
        }
      ]
    },
    {
      "cell_type": "markdown",
      "metadata": {
        "id": "U0xJ-vCrWF1S"
      },
      "source": [
        "## Assemble cloud mask components\n",
        "\n",
        "This section builds an S2 SR collection and defines functions to add cloud and cloud shadow component layers to each image in the collection.\n",
        "\n"
      ]
    },
    {
      "cell_type": "markdown",
      "metadata": {
        "id": "tCRB28UkJJjp"
      },
      "source": [
        "### Define collection filter and cloud mask parameters\n",
        "\n",
        "Define parameters that are used to filter the S2 image collection and determine cloud and cloud shadow identification.\n",
        "\n",
        "|Parameter | Type | Description |\n",
        "| :-- | :-- | :-- |\n",
        "| `AOI` | `ee.Geometry` | Area of interest |\n",
        "| `START_DATE` | string | Image collection start date (inclusive) |\n",
        "| `END_DATE` | string | Image collection end date (exclusive) |\n",
        "| `CLOUD_FILTER` | integer | Maximum image cloud cover percent allowed in image collection |\n",
        "| `CLD_PRB_THRESH` | integer | Cloud probability (%); values greater than are considered cloud |\n",
        "| `NIR_DRK_THRESH` | float | Near-infrared reflectance; values less than are considered potential cloud shadow |\n",
        "| `CLD_PRJ_DIST` | float | Maximum distance (km) to search for cloud shadows from cloud edges |\n",
        "| `BUFFER` | integer | Distance (m) to dilate the edge of cloud-identified objects |"
      ]
    },
    {
      "cell_type": "markdown",
      "metadata": {
        "id": "q9LnKA3kEVrw"
      },
      "source": [
        "The values currently set for `AOI`, `START_DATE`, `END_DATE`, and `CLOUD_FILTER` are intended to build a collection for a single S2 overpass of a region near Portland, Oregon, USA. When parameterizing and evaluating cloud masks for a new area, it is good practice to identify a single overpass date and limit the regional extent to minimize processing requirements. If you want to work with a different example, use this [Earth Engine App](https://showcase.earthengine.app/view/s2-sr-browser-s2cloudless-nb) to identify an image that includes some clouds, then replace the relevant parameter values below with those provided in the app."
      ]
    },
    {
      "cell_type": "code",
      "metadata": {
        "id": "qBjBmX4-WFG7"
      },
      "source": [
        "AOI = ee.Geometry.Point(-122.269, 45.701)\n",
        "START_DATE = '2020-06-01'\n",
        "END_DATE = '2020-06-02'\n",
        "CLOUD_FILTER = 60\n",
        "CLD_PRB_THRESH = 50\n",
        "NIR_DRK_THRESH = 0.15\n",
        "CLD_PRJ_DIST = 1\n",
        "BUFFER = 50"
      ],
      "execution_count": 3,
      "outputs": []
    },
    {
      "cell_type": "markdown",
      "metadata": {
        "id": "DnJGSW1MlEL2"
      },
      "source": [
        "### Build a Sentinel-2 collection\n",
        "\n",
        "[Sentinel-2 surface reflectance](https://developers.google.com/earth-engine/datasets/catalog/COPERNICUS_S2_SR) and [Sentinel-2 cloud probability](https://developers.google.com/earth-engine/datasets/catalog/COPERNICUS_S2_CLOUD_PROBABILITY) are two different image collections. Each collection must be filtered similarly (e.g., by date and bounds) and then the two filtered collections must be joined.\n",
        "\n",
        "Define a function to filter the SR and s2cloudless collections according to area of interest and date parameters, then join them on the `system:index` property. The result is a copy of the SR collection where each image has a new `'s2cloudless'` property whose value is the corresponding s2cloudless image."
      ]
    },
    {
      "cell_type": "code",
      "metadata": {
        "id": "eCp0jiy2WBSz"
      },
      "source": [
        "def get_s2_sr_cld_col(aoi, start_date, end_date):\n",
        "    # Import and filter S2 SR.\n",
        "    s2_sr_col = (ee.ImageCollection('COPERNICUS/S2_SR')\n",
        "        .filterBounds(aoi)\n",
        "        .filterDate(start_date, end_date)\n",
        "        .filter(ee.Filter.lte('CLOUDY_PIXEL_PERCENTAGE', CLOUD_FILTER)))\n",
        "\n",
        "    # Import and filter s2cloudless.\n",
        "    s2_cloudless_col = (ee.ImageCollection('COPERNICUS/S2_CLOUD_PROBABILITY')\n",
        "        .filterBounds(aoi)\n",
        "        .filterDate(start_date, end_date))\n",
        "\n",
        "    # Join the filtered s2cloudless collection to the SR collection by the 'system:index' property.\n",
        "    return ee.ImageCollection(ee.Join.saveFirst('s2cloudless').apply(**{\n",
        "        'primary': s2_sr_col,\n",
        "        'secondary': s2_cloudless_col,\n",
        "        'condition': ee.Filter.equals(**{\n",
        "            'leftField': 'system:index',\n",
        "            'rightField': 'system:index'\n",
        "        })\n",
        "    }))"
      ],
      "execution_count": 4,
      "outputs": []
    },
    {
      "cell_type": "markdown",
      "metadata": {
        "id": "G2SNDLIKkaZS"
      },
      "source": [
        "Apply the `get_s2_sr_cld_col` function to build a collection according to the parameters defined above."
      ]
    },
    {
      "cell_type": "code",
      "metadata": {
        "id": "WhpT9SpeW0W2",
        "colab": {
          "base_uri": "https://localhost:8080/"
        },
        "outputId": "7244875d-55f8-47df-965a-11faa0a7f44c"
      },
      "source": [
        "s2_sr_cld_col_eval = get_s2_sr_cld_col(AOI, START_DATE, END_DATE)"
      ],
      "execution_count": 5,
      "outputs": [
        {
          "output_type": "stream",
          "name": "stderr",
          "text": [
            "/usr/local/lib/python3.12/dist-packages/ee/deprecation.py:209: DeprecationWarning: \n",
            "\n",
            "Attention required for COPERNICUS/S2_SR! You are using a deprecated asset.\n",
            "To make sure your code keeps working, please update it.\n",
            "Learn more: https://developers.google.com/earth-engine/datasets/catalog/COPERNICUS_S2_SR\n",
            "\n",
            "  warnings.warn(warning, category=DeprecationWarning)\n"
          ]
        }
      ]
    },
    {
      "cell_type": "markdown",
      "metadata": {
        "id": "56S6gZNUr2n8"
      },
      "source": [
        "### Define cloud mask component functions"
      ]
    },
    {
      "cell_type": "markdown",
      "metadata": {
        "id": "ZUyuXh7gP-98"
      },
      "source": [
        "#### Cloud components\n",
        "\n",
        "Define a function to add the s2cloudless probability layer and derived cloud mask as bands to an S2 SR image input."
      ]
    },
    {
      "cell_type": "code",
      "metadata": {
        "id": "yE9x4KREYfnD"
      },
      "source": [
        "def add_cloud_bands(img):\n",
        "    # Get s2cloudless image, subset the probability band.\n",
        "    cld_prb = ee.Image(img.get('s2cloudless')).select('probability')\n",
        "\n",
        "    # Condition s2cloudless by the probability threshold value.\n",
        "    is_cloud = cld_prb.gt(CLD_PRB_THRESH).rename('clouds')\n",
        "\n",
        "    # Add the cloud probability layer and cloud mask as image bands.\n",
        "    return img.addBands(ee.Image([cld_prb, is_cloud]))"
      ],
      "execution_count": 6,
      "outputs": []
    },
    {
      "cell_type": "markdown",
      "metadata": {
        "id": "HUnkfgniKzVr"
      },
      "source": [
        "#### Cloud shadow components\n",
        "\n",
        "Define a function to add dark pixels, cloud projection, and identified shadows as bands to an S2 SR image input. Note that the image input needs to be the result of the above `add_cloud_bands` function because it relies on knowing which pixels are considered cloudy (`'clouds'` band)."
      ]
    },
    {
      "cell_type": "code",
      "metadata": {
        "id": "zU-uPdhtbzw3"
      },
      "source": [
        "def add_shadow_bands(img):\n",
        "    # Identify water pixels from the SCL band.\n",
        "    not_water = img.select('SCL').neq(6)\n",
        "\n",
        "    # Identify dark NIR pixels that are not water (potential cloud shadow pixels).\n",
        "    SR_BAND_SCALE = 1e4\n",
        "    dark_pixels = img.select('B8').lt(NIR_DRK_THRESH*SR_BAND_SCALE).multiply(not_water).rename('dark_pixels')\n",
        "\n",
        "    # Determine the direction to project cloud shadow from clouds (assumes UTM projection).\n",
        "    shadow_azimuth = ee.Number(90).subtract(ee.Number(img.get('MEAN_SOLAR_AZIMUTH_ANGLE')));\n",
        "\n",
        "    # Project shadows from clouds for the distance specified by the CLD_PRJ_DIST input.\n",
        "    cld_proj = (img.select('clouds').directionalDistanceTransform(shadow_azimuth, CLD_PRJ_DIST*10)\n",
        "        .reproject(**{'crs': img.select(0).projection(), 'scale': 100})\n",
        "        .select('distance')\n",
        "        .mask()\n",
        "        .rename('cloud_transform'))\n",
        "\n",
        "    # Identify the intersection of dark pixels with cloud shadow projection.\n",
        "    shadows = cld_proj.multiply(dark_pixels).rename('shadows')\n",
        "\n",
        "    # Add dark pixels, cloud projection, and identified shadows as image bands.\n",
        "    return img.addBands(ee.Image([dark_pixels, cld_proj, shadows]))"
      ],
      "execution_count": 7,
      "outputs": []
    },
    {
      "cell_type": "markdown",
      "metadata": {
        "id": "2rqSRgn1NfxZ"
      },
      "source": [
        "#### Final cloud-shadow mask\n",
        "\n",
        "Define a function to assemble all of the cloud and cloud shadow components and produce the final mask."
      ]
    },
    {
      "cell_type": "code",
      "metadata": {
        "id": "VNP-VlmwccKG"
      },
      "source": [
        "def add_cld_shdw_mask(img):\n",
        "    # Add cloud component bands.\n",
        "    img_cloud = add_cloud_bands(img)\n",
        "\n",
        "    # Add cloud shadow component bands.\n",
        "    img_cloud_shadow = add_shadow_bands(img_cloud)\n",
        "\n",
        "    # Combine cloud and shadow mask, set cloud and shadow as value 1, else 0.\n",
        "    is_cld_shdw = img_cloud_shadow.select('clouds').add(img_cloud_shadow.select('shadows')).gt(0)\n",
        "\n",
        "    # Remove small cloud-shadow patches and dilate remaining pixels by BUFFER input.\n",
        "    # 20 m scale is for speed, and assumes clouds don't require 10 m precision.\n",
        "    is_cld_shdw = (is_cld_shdw.focalMin(2).focalMax(BUFFER*2/20)\n",
        "        .reproject(**{'crs': img.select([0]).projection(), 'scale': 20})\n",
        "        .rename('cloudmask'))\n",
        "\n",
        "    # Add the final cloud-shadow mask to the image.\n",
        "    return img_cloud_shadow.addBands(is_cld_shdw)"
      ],
      "execution_count": 8,
      "outputs": []
    },
    {
      "cell_type": "markdown",
      "metadata": {
        "id": "i0QbQoJ1jpHw"
      },
      "source": [
        "## Visualize and evaluate cloud mask components\n",
        "\n",
        "This section provides functions for displaying the cloud and cloud shadow components. In most cases, adding all components to images and viewing them is unnecessary. This section is included to illustrate how the cloud/cloud shadow mask is developed and demonstrate how to test and evaluate various parameters, which is helpful when defining masking variables for an unfamiliar region or time of year.\n",
        "\n",
        "In applications outside of this tutorial, if you prefer to include only the final cloud/cloud shadow mask along with the original image bands, replace:\n",
        "\n",
        "```\n",
        "return img_cloud_shadow.addBands(is_cld_shdw)\n",
        "```\n",
        "\n",
        "with\n",
        "\n",
        "```\n",
        "return img.addBands(is_cld_shdw)\n",
        "```\n",
        "\n",
        "in the above `add_cld_shdw_mask` function."
      ]
    },
    {
      "cell_type": "markdown",
      "metadata": {
        "id": "E_kxYHOAjvu2"
      },
      "source": [
        "### Define functions to display image and mask component layers.\n",
        "\n",
        "Folium will be used to display map layers. Import `folium` and define a method to display Earth Engine image tiles."
      ]
    },
    {
      "cell_type": "code",
      "metadata": {
        "id": "JPjOhSvGZAY8"
      },
      "source": [
        "# Import the folium library.\n",
        "import folium\n",
        "\n",
        "# Define a method for displaying Earth Engine image tiles to a folium map.\n",
        "def add_ee_layer(self, ee_image_object, vis_params, name, show=True, opacity=1, min_zoom=0):\n",
        "    map_id_dict = ee.Image(ee_image_object).getMapId(vis_params)\n",
        "    folium.raster_layers.TileLayer(\n",
        "        tiles=map_id_dict['tile_fetcher'].url_format,\n",
        "        attr='Map Data &copy; <a href=\"https://earthengine.google.com/\">Google Earth Engine</a>',\n",
        "        name=name,\n",
        "        show=show,\n",
        "        opacity=opacity,\n",
        "        min_zoom=min_zoom,\n",
        "        overlay=True,\n",
        "        control=True\n",
        "        ).add_to(self)\n",
        "\n",
        "# Add the Earth Engine layer method to folium.\n",
        "folium.Map.add_ee_layer = add_ee_layer"
      ],
      "execution_count": 9,
      "outputs": []
    },
    {
      "cell_type": "markdown",
      "metadata": {
        "id": "6XqvR5-qQUpQ"
      },
      "source": [
        "Define a function to display all of the cloud and cloud shadow components to an interactive Folium map. The input is an image collection where each image is the result of the `add_cld_shdw_mask` function defined previously."
      ]
    },
    {
      "cell_type": "code",
      "metadata": {
        "id": "9yow4KRVZGST"
      },
      "source": [
        "def display_cloud_layers(col):\n",
        "    # Mosaic the image collection.\n",
        "    img = col.mosaic()\n",
        "\n",
        "    # Subset layers and prepare them for display.\n",
        "    clouds = img.select('clouds').selfMask()\n",
        "    shadows = img.select('shadows').selfMask()\n",
        "    dark_pixels = img.select('dark_pixels').selfMask()\n",
        "    probability = img.select('probability')\n",
        "    cloudmask = img.select('cloudmask').selfMask()\n",
        "    cloud_transform = img.select('cloud_transform')\n",
        "\n",
        "    # Create a folium map object.\n",
        "    center = AOI.centroid(10).coordinates().reverse().getInfo()\n",
        "    m = folium.Map(location=center, zoom_start=12)\n",
        "\n",
        "    # Add layers to the folium map.\n",
        "    m.add_ee_layer(img,\n",
        "                   {'bands': ['B4', 'B3', 'B2'], 'min': 0, 'max': 2500, 'gamma': 1.1},\n",
        "                   'S2 image', True, 1, 9)\n",
        "    m.add_ee_layer(probability,\n",
        "                   {'min': 0, 'max': 100},\n",
        "                   'probability (cloud)', False, 1, 9)\n",
        "    m.add_ee_layer(clouds,\n",
        "                   {'palette': 'e056fd'},\n",
        "                   'clouds', False, 1, 9)\n",
        "    m.add_ee_layer(cloud_transform,\n",
        "                   {'min': 0, 'max': 1, 'palette': ['white', 'black']},\n",
        "                   'cloud_transform', False, 1, 9)\n",
        "    m.add_ee_layer(dark_pixels,\n",
        "                   {'palette': 'orange'},\n",
        "                   'dark_pixels', False, 1, 9)\n",
        "    m.add_ee_layer(shadows, {'palette': 'yellow'},\n",
        "                   'shadows', False, 1, 9)\n",
        "    m.add_ee_layer(cloudmask, {'palette': 'orange'},\n",
        "                   'cloudmask', True, 0.5, 9)\n",
        "\n",
        "    # Add a layer control panel to the map.\n",
        "    m.add_child(folium.LayerControl())\n",
        "\n",
        "    # Display the map.\n",
        "    display(m)"
      ],
      "execution_count": 10,
      "outputs": []
    },
    {
      "cell_type": "markdown",
      "metadata": {
        "id": "-yteWco7sgfW"
      },
      "source": [
        "### Display mask component layers\n",
        "\n",
        "Map the `add_cld_shdw_mask` function over the collection to add mask component bands to each image, then display the results.\n",
        "\n",
        "Give the system some time to render everything, it should take less than a minute."
      ]
    },
    {
      "cell_type": "code",
      "metadata": {
        "id": "gvsULCqgdLHu",
        "colab": {
          "base_uri": "https://localhost:8080/",
          "height": 1000
        },
        "outputId": "1db1ad02-0748-4307-fecb-6f1b0fdf6ad8"
      },
      "source": [
        "s2_sr_cld_col_eval_disp = s2_sr_cld_col_eval.map(add_cld_shdw_mask)\n",
        "\n",
        "display_cloud_layers(s2_sr_cld_col_eval_disp)"
      ],
      "execution_count": 11,
      "outputs": [
        {
          "output_type": "display_data",
          "data": {
            "text/plain": [
              "<folium.folium.Map at 0x78dbfb2072f0>"
            ],
            "text/html": [
              "<div style=\"width:100%;\"><div style=\"position:relative;width:100%;height:0;padding-bottom:60%;\"><span style=\"color:#565656\">Make this Notebook Trusted to load map: File -> Trust Notebook</span><iframe srcdoc=\"&lt;!DOCTYPE html&gt;\n",
              "&lt;html&gt;\n",
              "&lt;head&gt;\n",
              "    \n",
              "    &lt;meta http-equiv=&quot;content-type&quot; content=&quot;text/html; charset=UTF-8&quot; /&gt;\n",
              "    &lt;script src=&quot;https://cdn.jsdelivr.net/npm/leaflet@1.9.3/dist/leaflet.js&quot;&gt;&lt;/script&gt;\n",
              "    &lt;script src=&quot;https://code.jquery.com/jquery-3.7.1.min.js&quot;&gt;&lt;/script&gt;\n",
              "    &lt;script src=&quot;https://cdn.jsdelivr.net/npm/bootstrap@5.2.2/dist/js/bootstrap.bundle.min.js&quot;&gt;&lt;/script&gt;\n",
              "    &lt;script src=&quot;https://cdnjs.cloudflare.com/ajax/libs/Leaflet.awesome-markers/2.0.2/leaflet.awesome-markers.js&quot;&gt;&lt;/script&gt;\n",
              "    &lt;link rel=&quot;stylesheet&quot; href=&quot;https://cdn.jsdelivr.net/npm/leaflet@1.9.3/dist/leaflet.css&quot;/&gt;\n",
              "    &lt;link rel=&quot;stylesheet&quot; href=&quot;https://cdn.jsdelivr.net/npm/bootstrap@5.2.2/dist/css/bootstrap.min.css&quot;/&gt;\n",
              "    &lt;link rel=&quot;stylesheet&quot; href=&quot;https://netdna.bootstrapcdn.com/bootstrap/3.0.0/css/bootstrap-glyphicons.css&quot;/&gt;\n",
              "    &lt;link rel=&quot;stylesheet&quot; href=&quot;https://cdn.jsdelivr.net/npm/@fortawesome/fontawesome-free@6.2.0/css/all.min.css&quot;/&gt;\n",
              "    &lt;link rel=&quot;stylesheet&quot; href=&quot;https://cdnjs.cloudflare.com/ajax/libs/Leaflet.awesome-markers/2.0.2/leaflet.awesome-markers.css&quot;/&gt;\n",
              "    &lt;link rel=&quot;stylesheet&quot; href=&quot;https://cdn.jsdelivr.net/gh/python-visualization/folium/folium/templates/leaflet.awesome.rotate.min.css&quot;/&gt;\n",
              "    \n",
              "            &lt;meta name=&quot;viewport&quot; content=&quot;width=device-width,\n",
              "                initial-scale=1.0, maximum-scale=1.0, user-scalable=no&quot; /&gt;\n",
              "            &lt;style&gt;\n",
              "                #map_f7c3e326c4ece6cb48a0e94967032ba4 {\n",
              "                    position: relative;\n",
              "                    width: 100.0%;\n",
              "                    height: 100.0%;\n",
              "                    left: 0.0%;\n",
              "                    top: 0.0%;\n",
              "                }\n",
              "                .leaflet-container { font-size: 1rem; }\n",
              "            &lt;/style&gt;\n",
              "\n",
              "            &lt;style&gt;html, body {\n",
              "                width: 100%;\n",
              "                height: 100%;\n",
              "                margin: 0;\n",
              "                padding: 0;\n",
              "            }\n",
              "            &lt;/style&gt;\n",
              "\n",
              "            &lt;style&gt;#map {\n",
              "                position:absolute;\n",
              "                top:0;\n",
              "                bottom:0;\n",
              "                right:0;\n",
              "                left:0;\n",
              "                }\n",
              "            &lt;/style&gt;\n",
              "\n",
              "            &lt;script&gt;\n",
              "                L_NO_TOUCH = false;\n",
              "                L_DISABLE_3D = false;\n",
              "            &lt;/script&gt;\n",
              "\n",
              "        \n",
              "&lt;/head&gt;\n",
              "&lt;body&gt;\n",
              "    \n",
              "    \n",
              "            &lt;div class=&quot;folium-map&quot; id=&quot;map_f7c3e326c4ece6cb48a0e94967032ba4&quot; &gt;&lt;/div&gt;\n",
              "        \n",
              "&lt;/body&gt;\n",
              "&lt;script&gt;\n",
              "    \n",
              "    \n",
              "            var map_f7c3e326c4ece6cb48a0e94967032ba4 = L.map(\n",
              "                &quot;map_f7c3e326c4ece6cb48a0e94967032ba4&quot;,\n",
              "                {\n",
              "                    center: [45.70099999999999, -122.26900000000002],\n",
              "                    crs: L.CRS.EPSG3857,\n",
              "                    ...{\n",
              "  &quot;zoom&quot;: 12,\n",
              "  &quot;zoomControl&quot;: true,\n",
              "  &quot;preferCanvas&quot;: false,\n",
              "}\n",
              "\n",
              "                }\n",
              "            );\n",
              "\n",
              "            \n",
              "\n",
              "        \n",
              "    \n",
              "            var tile_layer_7b257ee20377ddbb9d371363a75ffb97 = L.tileLayer(\n",
              "                &quot;https://tile.openstreetmap.org/{z}/{x}/{y}.png&quot;,\n",
              "                {\n",
              "  &quot;minZoom&quot;: 0,\n",
              "  &quot;maxZoom&quot;: 19,\n",
              "  &quot;maxNativeZoom&quot;: 19,\n",
              "  &quot;noWrap&quot;: false,\n",
              "  &quot;attribution&quot;: &quot;\\u0026copy; \\u003ca href=\\&quot;https://www.openstreetmap.org/copyright\\&quot;\\u003eOpenStreetMap\\u003c/a\\u003e contributors&quot;,\n",
              "  &quot;subdomains&quot;: &quot;abc&quot;,\n",
              "  &quot;detectRetina&quot;: false,\n",
              "  &quot;tms&quot;: false,\n",
              "  &quot;opacity&quot;: 1,\n",
              "}\n",
              "\n",
              "            );\n",
              "        \n",
              "    \n",
              "            tile_layer_7b257ee20377ddbb9d371363a75ffb97.addTo(map_f7c3e326c4ece6cb48a0e94967032ba4);\n",
              "        \n",
              "    \n",
              "            var tile_layer_f8abb69cefd301fc36f28f8b469058bc = L.tileLayer(\n",
              "                &quot;https://earthengine.googleapis.com/v1/projects/refusion/maps/e32560aba8378b302b91ad97bd44d173-561cdbb04bb9641766f0c6422d4103f6/tiles/{z}/{x}/{y}&quot;,\n",
              "                {\n",
              "  &quot;minZoom&quot;: 9,\n",
              "  &quot;maxZoom&quot;: 18,\n",
              "  &quot;maxNativeZoom&quot;: 18,\n",
              "  &quot;noWrap&quot;: false,\n",
              "  &quot;attribution&quot;: &quot;Map Data \\u0026copy; \\u003ca href=\\&quot;https://earthengine.google.com/\\&quot;\\u003eGoogle Earth Engine\\u003c/a\\u003e&quot;,\n",
              "  &quot;subdomains&quot;: &quot;abc&quot;,\n",
              "  &quot;detectRetina&quot;: false,\n",
              "  &quot;tms&quot;: false,\n",
              "  &quot;opacity&quot;: 1,\n",
              "}\n",
              "\n",
              "            );\n",
              "        \n",
              "    \n",
              "            tile_layer_f8abb69cefd301fc36f28f8b469058bc.addTo(map_f7c3e326c4ece6cb48a0e94967032ba4);\n",
              "        \n",
              "    \n",
              "            var tile_layer_f285831395553607c6f6a8fb25384ab4 = L.tileLayer(\n",
              "                &quot;https://earthengine.googleapis.com/v1/projects/refusion/maps/b503c55d831737f540c2071568876752-ac0f490a628c3408bf48665cc7e621ae/tiles/{z}/{x}/{y}&quot;,\n",
              "                {\n",
              "  &quot;minZoom&quot;: 9,\n",
              "  &quot;maxZoom&quot;: 18,\n",
              "  &quot;maxNativeZoom&quot;: 18,\n",
              "  &quot;noWrap&quot;: false,\n",
              "  &quot;attribution&quot;: &quot;Map Data \\u0026copy; \\u003ca href=\\&quot;https://earthengine.google.com/\\&quot;\\u003eGoogle Earth Engine\\u003c/a\\u003e&quot;,\n",
              "  &quot;subdomains&quot;: &quot;abc&quot;,\n",
              "  &quot;detectRetina&quot;: false,\n",
              "  &quot;tms&quot;: false,\n",
              "  &quot;opacity&quot;: 1,\n",
              "}\n",
              "\n",
              "            );\n",
              "        \n",
              "    \n",
              "            var tile_layer_2544d6b7fa63396dc0b8305694bc443a = L.tileLayer(\n",
              "                &quot;https://earthengine.googleapis.com/v1/projects/refusion/maps/8acf29db4cc14c99a95470a419dc88e4-7f8bdd7aafa14cb33539fc2163849ab2/tiles/{z}/{x}/{y}&quot;,\n",
              "                {\n",
              "  &quot;minZoom&quot;: 9,\n",
              "  &quot;maxZoom&quot;: 18,\n",
              "  &quot;maxNativeZoom&quot;: 18,\n",
              "  &quot;noWrap&quot;: false,\n",
              "  &quot;attribution&quot;: &quot;Map Data \\u0026copy; \\u003ca href=\\&quot;https://earthengine.google.com/\\&quot;\\u003eGoogle Earth Engine\\u003c/a\\u003e&quot;,\n",
              "  &quot;subdomains&quot;: &quot;abc&quot;,\n",
              "  &quot;detectRetina&quot;: false,\n",
              "  &quot;tms&quot;: false,\n",
              "  &quot;opacity&quot;: 1,\n",
              "}\n",
              "\n",
              "            );\n",
              "        \n",
              "    \n",
              "            var tile_layer_7775c8cda194c75ed7dafdbac8464ccf = L.tileLayer(\n",
              "                &quot;https://earthengine.googleapis.com/v1/projects/refusion/maps/0748e788910ed370dbf4c549d3063919-503294cbdbff2e4516debdc3ef082018/tiles/{z}/{x}/{y}&quot;,\n",
              "                {\n",
              "  &quot;minZoom&quot;: 9,\n",
              "  &quot;maxZoom&quot;: 18,\n",
              "  &quot;maxNativeZoom&quot;: 18,\n",
              "  &quot;noWrap&quot;: false,\n",
              "  &quot;attribution&quot;: &quot;Map Data \\u0026copy; \\u003ca href=\\&quot;https://earthengine.google.com/\\&quot;\\u003eGoogle Earth Engine\\u003c/a\\u003e&quot;,\n",
              "  &quot;subdomains&quot;: &quot;abc&quot;,\n",
              "  &quot;detectRetina&quot;: false,\n",
              "  &quot;tms&quot;: false,\n",
              "  &quot;opacity&quot;: 1,\n",
              "}\n",
              "\n",
              "            );\n",
              "        \n",
              "    \n",
              "            var tile_layer_68c8d167bd19a672dc094b017873fd51 = L.tileLayer(\n",
              "                &quot;https://earthengine.googleapis.com/v1/projects/refusion/maps/da1211e36500ef4df20ccb7fe0f8dde1-02e9b7cd9e4ad2b0caac22aad227f6a7/tiles/{z}/{x}/{y}&quot;,\n",
              "                {\n",
              "  &quot;minZoom&quot;: 9,\n",
              "  &quot;maxZoom&quot;: 18,\n",
              "  &quot;maxNativeZoom&quot;: 18,\n",
              "  &quot;noWrap&quot;: false,\n",
              "  &quot;attribution&quot;: &quot;Map Data \\u0026copy; \\u003ca href=\\&quot;https://earthengine.google.com/\\&quot;\\u003eGoogle Earth Engine\\u003c/a\\u003e&quot;,\n",
              "  &quot;subdomains&quot;: &quot;abc&quot;,\n",
              "  &quot;detectRetina&quot;: false,\n",
              "  &quot;tms&quot;: false,\n",
              "  &quot;opacity&quot;: 1,\n",
              "}\n",
              "\n",
              "            );\n",
              "        \n",
              "    \n",
              "            var tile_layer_cf21365e4d0a26c696391c59538c7993 = L.tileLayer(\n",
              "                &quot;https://earthengine.googleapis.com/v1/projects/refusion/maps/64ced8d1f52babaad89315d3b5daa4bc-865698c7f9922c2c154a2aa79ec22b6a/tiles/{z}/{x}/{y}&quot;,\n",
              "                {\n",
              "  &quot;minZoom&quot;: 9,\n",
              "  &quot;maxZoom&quot;: 18,\n",
              "  &quot;maxNativeZoom&quot;: 18,\n",
              "  &quot;noWrap&quot;: false,\n",
              "  &quot;attribution&quot;: &quot;Map Data \\u0026copy; \\u003ca href=\\&quot;https://earthengine.google.com/\\&quot;\\u003eGoogle Earth Engine\\u003c/a\\u003e&quot;,\n",
              "  &quot;subdomains&quot;: &quot;abc&quot;,\n",
              "  &quot;detectRetina&quot;: false,\n",
              "  &quot;tms&quot;: false,\n",
              "  &quot;opacity&quot;: 1,\n",
              "}\n",
              "\n",
              "            );\n",
              "        \n",
              "    \n",
              "            var tile_layer_bdf0490701631cd080e9f6280e2e8d54 = L.tileLayer(\n",
              "                &quot;https://earthengine.googleapis.com/v1/projects/refusion/maps/510c00ff23f348666a5948fb533adf19-bd1bfbda20e0fdd8571a89fb4359ac04/tiles/{z}/{x}/{y}&quot;,\n",
              "                {\n",
              "  &quot;minZoom&quot;: 9,\n",
              "  &quot;maxZoom&quot;: 18,\n",
              "  &quot;maxNativeZoom&quot;: 18,\n",
              "  &quot;noWrap&quot;: false,\n",
              "  &quot;attribution&quot;: &quot;Map Data \\u0026copy; \\u003ca href=\\&quot;https://earthengine.google.com/\\&quot;\\u003eGoogle Earth Engine\\u003c/a\\u003e&quot;,\n",
              "  &quot;subdomains&quot;: &quot;abc&quot;,\n",
              "  &quot;detectRetina&quot;: false,\n",
              "  &quot;tms&quot;: false,\n",
              "  &quot;opacity&quot;: 0.5,\n",
              "}\n",
              "\n",
              "            );\n",
              "        \n",
              "    \n",
              "            tile_layer_bdf0490701631cd080e9f6280e2e8d54.addTo(map_f7c3e326c4ece6cb48a0e94967032ba4);\n",
              "        \n",
              "    \n",
              "            var layer_control_096009a70a2e3bdb325a37ced1d7619b_layers = {\n",
              "                base_layers : {\n",
              "                    &quot;openstreetmap&quot; : tile_layer_7b257ee20377ddbb9d371363a75ffb97,\n",
              "                },\n",
              "                overlays :  {\n",
              "                    &quot;S2 image&quot; : tile_layer_f8abb69cefd301fc36f28f8b469058bc,\n",
              "                    &quot;probability (cloud)&quot; : tile_layer_f285831395553607c6f6a8fb25384ab4,\n",
              "                    &quot;clouds&quot; : tile_layer_2544d6b7fa63396dc0b8305694bc443a,\n",
              "                    &quot;cloud_transform&quot; : tile_layer_7775c8cda194c75ed7dafdbac8464ccf,\n",
              "                    &quot;dark_pixels&quot; : tile_layer_68c8d167bd19a672dc094b017873fd51,\n",
              "                    &quot;shadows&quot; : tile_layer_cf21365e4d0a26c696391c59538c7993,\n",
              "                    &quot;cloudmask&quot; : tile_layer_bdf0490701631cd080e9f6280e2e8d54,\n",
              "                },\n",
              "            };\n",
              "            let layer_control_096009a70a2e3bdb325a37ced1d7619b = L.control.layers(\n",
              "                layer_control_096009a70a2e3bdb325a37ced1d7619b_layers.base_layers,\n",
              "                layer_control_096009a70a2e3bdb325a37ced1d7619b_layers.overlays,\n",
              "                {\n",
              "  &quot;position&quot;: &quot;topright&quot;,\n",
              "  &quot;collapsed&quot;: true,\n",
              "  &quot;autoZIndex&quot;: true,\n",
              "}\n",
              "            ).addTo(map_f7c3e326c4ece6cb48a0e94967032ba4);\n",
              "\n",
              "        \n",
              "&lt;/script&gt;\n",
              "&lt;/html&gt;\" style=\"position:absolute;width:100%;height:100%;left:0;top:0;border:none !important;\" allowfullscreen webkitallowfullscreen mozallowfullscreen></iframe></div></div>"
            ]
          },
          "metadata": {}
        }
      ]
    },
    {
      "cell_type": "markdown",
      "metadata": {
        "id": "HZAd5ZHWWZed"
      },
      "source": [
        "### Evaluate mask component layers\n",
        "\n",
        "In the above map, use the layer control panel in the upper right corner to toggle layers on and off; layer names are the same as band names, for easy code referral. Note that the layers have a minimum zoom level of 9 to avoid resource issues that can occur when visualizing layers that depend on the `ee.Image.reproject` function (used during cloud shadow project and mask dilation).\n",
        "\n",
        "Try changing the above `CLD_PRB_THRESH`, `NIR_DRK_THRESH`, `CLD_PRJ_DIST`, and `BUFFER` input variables and rerunning the previous cell to see how the results change. Find a good set of values for a given overpass and then try the procedure with a new overpass with different cloud conditions (this [S2 SR image browser app](https://showcase.earthengine.app/view/s2-sr-browser-s2cloudless-nb) is handy for quickly identifying images and determining image collection filter criteria). Try to identify a set of parameter values that balances cloud/cloud shadow commission and omission error for a range of cloud types. In the next section, we'll use the values to actually apply the mask to generate a cloud-free composite for 2020."
      ]
    },
    {
      "cell_type": "markdown",
      "metadata": {
        "id": "7iR3d7HCYf8j"
      },
      "source": [
        "## Apply cloud and cloud shadow mask\n",
        "\n",
        "In this section we'll generate a cloud-free composite for the same region as above that represents mean reflectance for July and August, 2020."
      ]
    },
    {
      "cell_type": "markdown",
      "metadata": {
        "id": "V1lnub3LNoiq"
      },
      "source": [
        "### Define collection filter and cloud mask parameters\n",
        "\n",
        "We'll redefine the parameters to be a little more aggressive, i.e. decrease the cloud probability threshold, increase the cloud projection distance, and increase the buffer. These changes will increase cloud commission error (mask out some clear pixels), but since we will be compositing images from three months, there should be plenty of observations to complete the mosaic."
      ]
    },
    {
      "cell_type": "code",
      "metadata": {
        "id": "H_eDsLZ5Yzxh"
      },
      "source": [
        "AOI = ee.Geometry.Point(-122.269, 45.701)\n",
        "START_DATE = '2020-06-01'\n",
        "END_DATE = '2020-09-01'\n",
        "CLOUD_FILTER = 60\n",
        "CLD_PRB_THRESH = 40\n",
        "NIR_DRK_THRESH = 0.15\n",
        "CLD_PRJ_DIST = 2\n",
        "BUFFER = 100"
      ],
      "execution_count": 12,
      "outputs": []
    },
    {
      "cell_type": "markdown",
      "metadata": {
        "id": "R6iuJ2FybAc_"
      },
      "source": [
        "### Build a Sentinel-2 collection\n",
        "\n",
        "Reassemble the S2-cloudless collection since the collection filter parameters have changed."
      ]
    },
    {
      "cell_type": "code",
      "metadata": {
        "id": "AIk8xa0ImRTS"
      },
      "source": [
        "s2_sr_cld_col = get_s2_sr_cld_col(AOI, START_DATE, END_DATE)"
      ],
      "execution_count": 13,
      "outputs": []
    },
    {
      "cell_type": "markdown",
      "metadata": {
        "id": "iuJ-Ml9taz-i"
      },
      "source": [
        "### Define cloud mask application function\n",
        "\n",
        "Define a function to apply the cloud mask to each image in the collection."
      ]
    },
    {
      "cell_type": "code",
      "metadata": {
        "id": "VyR9JYxbbJJQ"
      },
      "source": [
        "def apply_cld_shdw_mask(img):\n",
        "    # Subset the cloudmask band and invert it so clouds/shadow are 0, else 1.\n",
        "    not_cld_shdw = img.select('cloudmask').Not()\n",
        "\n",
        "    # Subset reflectance bands and update their masks, return the result.\n",
        "    return img.select('B.*').updateMask(not_cld_shdw)"
      ],
      "execution_count": 14,
      "outputs": []
    },
    {
      "cell_type": "markdown",
      "metadata": {
        "id": "8dT3EWPqcOkA"
      },
      "source": [
        "### Process the collection\n",
        "\n",
        "Add cloud and cloud shadow component bands to each image and then apply the mask to each image. Reduce the collection by median (in your application, you might consider using medoid reduction to build a composite from actual data values, instead of per-band statistics)."
      ]
    },
    {
      "cell_type": "code",
      "metadata": {
        "id": "G2XogQYycO53"
      },
      "source": [
        "s2_sr_median = (s2_sr_cld_col.map(add_cld_shdw_mask)\n",
        "                             .map(apply_cld_shdw_mask)\n",
        "                             .median())"
      ],
      "execution_count": 15,
      "outputs": []
    },
    {
      "cell_type": "markdown",
      "metadata": {
        "id": "nYS9EV_Mc-2_"
      },
      "source": [
        "### Display the cloud-free composite\n",
        "\n",
        "Display the results. Be patient while the map renders, it may take a minute; [`ee.Image.reproject`](https://developers.google.com/earth-engine/guides/projections#reprojecting) is forcing computations to happen at 100 and 20 m scales (i.e. it is not relying on appropriate pyramid level [scales for analysis](https://developers.google.com/earth-engine/guides/scale#scale-of-analysis)). The issues with `ee.Image.reproject` being resource-intensive in this case are mostly confined to interactive map viewing. Batch image [exports](https://developers.google.com/earth-engine/guides/exporting) and table reduction exports where the `scale` parameter is set to typical Sentinel-2 scales (10-60 m) are less affected.\n",
        "\n"
      ]
    },
    {
      "cell_type": "code",
      "metadata": {
        "id": "hMObmv_tdLaX",
        "colab": {
          "base_uri": "https://localhost:8080/",
          "height": 1000
        },
        "outputId": "24bde221-c58f-402d-d1ed-f02e68566277"
      },
      "source": [
        "# Create a folium map object.\n",
        "center = AOI.centroid(10).coordinates().reverse().getInfo()\n",
        "m = folium.Map(location=center, zoom_start=12)\n",
        "\n",
        "# Add layers to the folium map.\n",
        "m.add_ee_layer(s2_sr_median,\n",
        "                {'bands': ['B4', 'B3', 'B2'], 'min': 0, 'max': 2500, 'gamma': 1.1},\n",
        "                'S2 cloud-free mosaic', True, 1, 9)\n",
        "\n",
        "# Add a layer control panel to the map.\n",
        "m.add_child(folium.LayerControl())\n",
        "\n",
        "# Display the map.\n",
        "display(m)"
      ],
      "execution_count": 16,
      "outputs": [
        {
          "output_type": "display_data",
          "data": {
            "text/plain": [
              "<folium.folium.Map at 0x78dc0624e060>"
            ],
            "text/html": [
              "<div style=\"width:100%;\"><div style=\"position:relative;width:100%;height:0;padding-bottom:60%;\"><span style=\"color:#565656\">Make this Notebook Trusted to load map: File -> Trust Notebook</span><iframe srcdoc=\"&lt;!DOCTYPE html&gt;\n",
              "&lt;html&gt;\n",
              "&lt;head&gt;\n",
              "    \n",
              "    &lt;meta http-equiv=&quot;content-type&quot; content=&quot;text/html; charset=UTF-8&quot; /&gt;\n",
              "    &lt;script src=&quot;https://cdn.jsdelivr.net/npm/leaflet@1.9.3/dist/leaflet.js&quot;&gt;&lt;/script&gt;\n",
              "    &lt;script src=&quot;https://code.jquery.com/jquery-3.7.1.min.js&quot;&gt;&lt;/script&gt;\n",
              "    &lt;script src=&quot;https://cdn.jsdelivr.net/npm/bootstrap@5.2.2/dist/js/bootstrap.bundle.min.js&quot;&gt;&lt;/script&gt;\n",
              "    &lt;script src=&quot;https://cdnjs.cloudflare.com/ajax/libs/Leaflet.awesome-markers/2.0.2/leaflet.awesome-markers.js&quot;&gt;&lt;/script&gt;\n",
              "    &lt;link rel=&quot;stylesheet&quot; href=&quot;https://cdn.jsdelivr.net/npm/leaflet@1.9.3/dist/leaflet.css&quot;/&gt;\n",
              "    &lt;link rel=&quot;stylesheet&quot; href=&quot;https://cdn.jsdelivr.net/npm/bootstrap@5.2.2/dist/css/bootstrap.min.css&quot;/&gt;\n",
              "    &lt;link rel=&quot;stylesheet&quot; href=&quot;https://netdna.bootstrapcdn.com/bootstrap/3.0.0/css/bootstrap-glyphicons.css&quot;/&gt;\n",
              "    &lt;link rel=&quot;stylesheet&quot; href=&quot;https://cdn.jsdelivr.net/npm/@fortawesome/fontawesome-free@6.2.0/css/all.min.css&quot;/&gt;\n",
              "    &lt;link rel=&quot;stylesheet&quot; href=&quot;https://cdnjs.cloudflare.com/ajax/libs/Leaflet.awesome-markers/2.0.2/leaflet.awesome-markers.css&quot;/&gt;\n",
              "    &lt;link rel=&quot;stylesheet&quot; href=&quot;https://cdn.jsdelivr.net/gh/python-visualization/folium/folium/templates/leaflet.awesome.rotate.min.css&quot;/&gt;\n",
              "    \n",
              "            &lt;meta name=&quot;viewport&quot; content=&quot;width=device-width,\n",
              "                initial-scale=1.0, maximum-scale=1.0, user-scalable=no&quot; /&gt;\n",
              "            &lt;style&gt;\n",
              "                #map_9a94b476c21fe253f04448e3c7d5c4d0 {\n",
              "                    position: relative;\n",
              "                    width: 100.0%;\n",
              "                    height: 100.0%;\n",
              "                    left: 0.0%;\n",
              "                    top: 0.0%;\n",
              "                }\n",
              "                .leaflet-container { font-size: 1rem; }\n",
              "            &lt;/style&gt;\n",
              "\n",
              "            &lt;style&gt;html, body {\n",
              "                width: 100%;\n",
              "                height: 100%;\n",
              "                margin: 0;\n",
              "                padding: 0;\n",
              "            }\n",
              "            &lt;/style&gt;\n",
              "\n",
              "            &lt;style&gt;#map {\n",
              "                position:absolute;\n",
              "                top:0;\n",
              "                bottom:0;\n",
              "                right:0;\n",
              "                left:0;\n",
              "                }\n",
              "            &lt;/style&gt;\n",
              "\n",
              "            &lt;script&gt;\n",
              "                L_NO_TOUCH = false;\n",
              "                L_DISABLE_3D = false;\n",
              "            &lt;/script&gt;\n",
              "\n",
              "        \n",
              "&lt;/head&gt;\n",
              "&lt;body&gt;\n",
              "    \n",
              "    \n",
              "            &lt;div class=&quot;folium-map&quot; id=&quot;map_9a94b476c21fe253f04448e3c7d5c4d0&quot; &gt;&lt;/div&gt;\n",
              "        \n",
              "&lt;/body&gt;\n",
              "&lt;script&gt;\n",
              "    \n",
              "    \n",
              "            var map_9a94b476c21fe253f04448e3c7d5c4d0 = L.map(\n",
              "                &quot;map_9a94b476c21fe253f04448e3c7d5c4d0&quot;,\n",
              "                {\n",
              "                    center: [45.70099999999999, -122.26900000000002],\n",
              "                    crs: L.CRS.EPSG3857,\n",
              "                    ...{\n",
              "  &quot;zoom&quot;: 12,\n",
              "  &quot;zoomControl&quot;: true,\n",
              "  &quot;preferCanvas&quot;: false,\n",
              "}\n",
              "\n",
              "                }\n",
              "            );\n",
              "\n",
              "            \n",
              "\n",
              "        \n",
              "    \n",
              "            var tile_layer_c6d1410959fdfe17229e2d5eea5cb25c = L.tileLayer(\n",
              "                &quot;https://tile.openstreetmap.org/{z}/{x}/{y}.png&quot;,\n",
              "                {\n",
              "  &quot;minZoom&quot;: 0,\n",
              "  &quot;maxZoom&quot;: 19,\n",
              "  &quot;maxNativeZoom&quot;: 19,\n",
              "  &quot;noWrap&quot;: false,\n",
              "  &quot;attribution&quot;: &quot;\\u0026copy; \\u003ca href=\\&quot;https://www.openstreetmap.org/copyright\\&quot;\\u003eOpenStreetMap\\u003c/a\\u003e contributors&quot;,\n",
              "  &quot;subdomains&quot;: &quot;abc&quot;,\n",
              "  &quot;detectRetina&quot;: false,\n",
              "  &quot;tms&quot;: false,\n",
              "  &quot;opacity&quot;: 1,\n",
              "}\n",
              "\n",
              "            );\n",
              "        \n",
              "    \n",
              "            tile_layer_c6d1410959fdfe17229e2d5eea5cb25c.addTo(map_9a94b476c21fe253f04448e3c7d5c4d0);\n",
              "        \n",
              "    \n",
              "            var tile_layer_b73d89bac5c97648200a3affe8023b97 = L.tileLayer(\n",
              "                &quot;https://earthengine.googleapis.com/v1/projects/refusion/maps/e58e24eb2faed67e3c07e211ce42792f-982741e92d41c7c1130c41898209822a/tiles/{z}/{x}/{y}&quot;,\n",
              "                {\n",
              "  &quot;minZoom&quot;: 9,\n",
              "  &quot;maxZoom&quot;: 18,\n",
              "  &quot;maxNativeZoom&quot;: 18,\n",
              "  &quot;noWrap&quot;: false,\n",
              "  &quot;attribution&quot;: &quot;Map Data \\u0026copy; \\u003ca href=\\&quot;https://earthengine.google.com/\\&quot;\\u003eGoogle Earth Engine\\u003c/a\\u003e&quot;,\n",
              "  &quot;subdomains&quot;: &quot;abc&quot;,\n",
              "  &quot;detectRetina&quot;: false,\n",
              "  &quot;tms&quot;: false,\n",
              "  &quot;opacity&quot;: 1,\n",
              "}\n",
              "\n",
              "            );\n",
              "        \n",
              "    \n",
              "            tile_layer_b73d89bac5c97648200a3affe8023b97.addTo(map_9a94b476c21fe253f04448e3c7d5c4d0);\n",
              "        \n",
              "    \n",
              "            var layer_control_8e19429678b7953f595b5b961b5fb051_layers = {\n",
              "                base_layers : {\n",
              "                    &quot;openstreetmap&quot; : tile_layer_c6d1410959fdfe17229e2d5eea5cb25c,\n",
              "                },\n",
              "                overlays :  {\n",
              "                    &quot;S2 cloud-free mosaic&quot; : tile_layer_b73d89bac5c97648200a3affe8023b97,\n",
              "                },\n",
              "            };\n",
              "            let layer_control_8e19429678b7953f595b5b961b5fb051 = L.control.layers(\n",
              "                layer_control_8e19429678b7953f595b5b961b5fb051_layers.base_layers,\n",
              "                layer_control_8e19429678b7953f595b5b961b5fb051_layers.overlays,\n",
              "                {\n",
              "  &quot;position&quot;: &quot;topright&quot;,\n",
              "  &quot;collapsed&quot;: true,\n",
              "  &quot;autoZIndex&quot;: true,\n",
              "}\n",
              "            ).addTo(map_9a94b476c21fe253f04448e3c7d5c4d0);\n",
              "\n",
              "        \n",
              "&lt;/script&gt;\n",
              "&lt;/html&gt;\" style=\"position:absolute;width:100%;height:100%;left:0;top:0;border:none !important;\" allowfullscreen webkitallowfullscreen mozallowfullscreen></iframe></div></div>"
            ]
          },
          "metadata": {}
        }
      ]
    },
    {
      "cell_type": "markdown",
      "metadata": {
        "id": "PuqD4vNyo-aF"
      },
      "source": [
        "Hopefully you now have a good sense for Sentinel-2 cloud masking in the cloud 😉 with Earth Engine."
      ]
    },
    {
      "cell_type": "code",
      "source": [
        "# --- 0) Setup & auth ---\n",
        "!pip -q install earthengine-api --upgrade\n",
        "import ee\n",
        "ee.Authenticate()   # follow the link (first time) then rerun next line\n",
        "ee.Initialize(project='refusion')  # or ee.Initialize() if you don't use a GCP project\n",
        "\n",
        "# --- 1) Parameters you can change ---\n",
        "LAT, LON = 24.7136, 46.6753      # Example: Riyadh. Replace with your study area center\n",
        "RADIUS_KM = 60                   # Buffer radius around the center (km)\n",
        "START, END = '2023-01-01', '2025-01-01'\n",
        "MAX_CLOUD_PROB = 60              # keep some cloudy days so we can still collect *hazy* scenes\n",
        "N_IMAGES = 10                    # how many haze-varied images to export\n",
        "EXPORT_SCALE = 10                # meters (S2 native resolution for visible/NIR)\n",
        "\n",
        "# Bands to export (raw stack)\n",
        "RAW_BANDS = [\n",
        "    'B2','B3','B4','B8',        # Blue, Green, Red, NIR\n",
        "    'AOT','SCL'                 # Aerosol Optical Thickness (haze proxy), Scene Classification\n",
        "]\n",
        "\n",
        "# --- 2) Build AOI ---\n",
        "aoi = ee.Geometry.Point([LON, LAT]).buffer(RADIUS_KM * 1000).bounds()\n",
        "\n",
        "# --- 3) Collections: Sentinel-2 SR + s2cloudless probability ---\n",
        "s2_sr = ee.ImageCollection('COPERNICUS/S2_SR_HARMONIZED') \\\n",
        "    .filterDate(START, END) \\\n",
        "    .filterBounds(aoi)\n",
        "\n",
        "s2_cp = ee.ImageCollection('COPERNICUS/S2_CLOUD_PROBABILITY') \\\n",
        "    .filterDate(START, END) \\\n",
        "    .filterBounds(aoi)\n",
        "\n",
        "# Join cloud probability to SR collection (Python API fix)\n",
        "def join_cloud_prob(sr_col, cp_col):\n",
        "    # match by system:index\n",
        "    filter_join = ee.Filter.equals(leftField='system:index', rightField='system:index')\n",
        "    # NOTE: saveFirst takes a positional key name in Python\n",
        "    inner_join = ee.Join.saveFirst('cloudprob')\n",
        "    joined = inner_join.apply(primary=sr_col, secondary=cp_col, condition=filter_join)\n",
        "\n",
        "    # keep only images that actually matched a cloud-probability image\n",
        "    def add_cp(img):\n",
        "        cp = ee.Image(img.get('cloudprob'))  # this is the joined s2cloudless image\n",
        "        return ee.Image(img).addBands(cp.rename('probability'))\n",
        "\n",
        "    return ee.ImageCollection(joined) \\\n",
        "        .filter(ee.Filter.notNull(['cloudprob'])) \\\n",
        "        .map(add_cp)\n",
        "\n",
        "s2 = join_cloud_prob(s2_sr, s2_cp)\n",
        "\n",
        "# --- 4) Basic filtering: keep reasonable cloud prob, require AOT present ---\n",
        "s2 = s2.filter(ee.Filter.lt('CLOUDY_PIXEL_PERCENTAGE', MAX_CLOUD_PROB)) \\\n",
        "       .filter(ee.Filter.listContains('system:band_names', 'AOT')) \\\n",
        "       .filter(ee.Filter.listContains('system:band_names', 'SCL')) \\\n",
        "       .filter(ee.Filter.listContains('system:band_names', 'B2')) \\\n",
        "       .filter(ee.Filter.listContains('system:band_names', 'B3')) \\\n",
        "       .filter(ee.Filter.listContains('system:band_names', 'B4')) \\\n",
        "       .filter(ee.Filter.listContains('system:band_names', 'B8'))\n",
        "\n",
        "# --- 5) Compute haze & cloud metrics per image over AOI ---\n",
        "def add_metrics(img):\n",
        "    stats = img.select(['AOT','probability']).reduceRegion(\n",
        "        reducer=ee.Reducer.mean().combine(ee.Reducer.median(), sharedInputs=True),\n",
        "        geometry=aoi, scale=20, maxPixels=1e13\n",
        "    )\n",
        "    return img.set({\n",
        "        'aot_mean': stats.get('AOT_mean'),\n",
        "        'aot_median': stats.get('AOT_median'),\n",
        "        'cloudprob_mean': stats.get('probability_mean'),\n",
        "        'cloudprob_median': stats.get('probability_median'),\n",
        "        'date': ee.Date(img.get('system:time_start')).format('YYYY-MM-dd')\n",
        "    })\n",
        "\n",
        "s2_metrics = s2.map(add_metrics).filter(ee.Filter.notNull(['aot_mean']))\n",
        "\n",
        "# If nothing found, stop early\n",
        "count = s2_metrics.size()\n",
        "print('Candidate images:', count.getInfo())\n",
        "if count.getInfo() == 0:\n",
        "    raise SystemExit(\"No Sentinel-2 images matched your filters. Try widening dates/area or increasing MAX_CLOUD_PROB.\")\n",
        "\n",
        "# --- 6) Pick N images across the haze (AOT) range WITHOUT large client lists ---\n",
        "\n",
        "# (A) Get min and max of aot_mean (cheap server-side reduce)\n",
        "minmax = s2_metrics.reduceColumns(\n",
        "    reducer=ee.Reducer.min().combine(ee.Reducer.max(), sharedInputs=True),\n",
        "    selectors=['aot_mean']\n",
        ")\n",
        "aot_min = ee.Number(minmax.get('min'))\n",
        "aot_max = ee.Number(minmax.get('max'))\n",
        "\n",
        "# Build N thresholds between [min, max]\n",
        "# Note: if aot_min == aot_max (unlikely), we’ll just take the first N images later\n",
        "def build_thresholds(a_min, a_max, n):\n",
        "    n = ee.Number(n)\n",
        "    cond = a_max.gt(a_min)\n",
        "    step = a_max.subtract(a_min).divide(n.subtract(1))\n",
        "    return ee.Algorithms.If(\n",
        "        cond,\n",
        "        ee.List.sequence(a_min, a_max, step),\n",
        "        ee.List.repeat(a_min, n)  # fallback if all equal\n",
        "    )\n",
        "\n",
        "thresholds = ee.List(build_thresholds(aot_min, aot_max, N_IMAGES))\n",
        "\n",
        "# For each threshold t, get the first image with aot_mean >= t\n",
        "def pick_at_threshold(t):\n",
        "    t = ee.Number(t)\n",
        "    # Filter to aot_mean >= t and pick the closest to t (ascending)\n",
        "    return s2_metrics.filter(ee.Filter.gte('aot_mean', t)).sort('aot_mean').first()\n",
        "\n",
        "picked_imgs = ee.ImageCollection.fromImages(thresholds.map(pick_at_threshold)) \\\n",
        "    .filter(ee.Filter.notNull(['system:time_start']))  # remove nulls if any\n",
        "\n",
        "# If we somehow got fewer than requested (e.g., extremely tight filters),\n",
        "# top up by taking additional images across the range:\n",
        "picked_count = picked_imgs.size()\n",
        "picked_imgs = ee.ImageCollection(ee.Algorithms.If(\n",
        "    picked_count.gte(N_IMAGES),\n",
        "    picked_imgs.limit(N_IMAGES),\n",
        "    picked_imgs.merge(s2_metrics.sort('aot_mean').limit(N_IMAGES)).limit(N_IMAGES)\n",
        "))\n",
        "\n",
        "# --- 7) Export each picked image to Drive (True Color preview + Raw bands) ---\n",
        "\n",
        "vis_rgb = {'bands': ['B4','B3','B2'], 'min': 0, 'max': 3000, 'gamma': 1.1}\n",
        "EXPORT_FOLDER = 'S2_Haze_Paper'\n",
        "\n",
        "# Get only the few properties we need to avoid bulky client transfers\n",
        "idx_list   = picked_imgs.aggregate_array('system:index').getInfo()\n",
        "date_list  = picked_imgs.aggregate_array('date').getInfo()\n",
        "aot_list   = picked_imgs.aggregate_array('aot_mean').getInfo()\n",
        "cp_list    = picked_imgs.aggregate_array('cloudprob_mean').getInfo()\n",
        "\n",
        "print(f\"Selected images: {len(idx_list)}\")\n",
        "\n",
        "task_list = []\n",
        "for i, idx in enumerate(idx_list):\n",
        "    # Re-fetch the image by index (tiny query) to export\n",
        "    img  = s2_metrics.filter(ee.Filter.eq('system:index', idx)).first()\n",
        "    date = date_list[i]\n",
        "    aotm = aot_list[i] if aot_list[i] is not None else 0\n",
        "    cp   = cp_list[i]  if cp_list[i]  is not None else 0\n",
        "    suffix = f\"{date}_AOT{aotm:.3f}_CP{cp:.1f}\"\n",
        "\n",
        "    preview = ee.Image(img).visualize(**vis_rgb).clip(aoi)\n",
        "    t1 = ee.batch.Export.image.toDrive(\n",
        "        image=preview,\n",
        "        description='S2_preview_' + suffix,\n",
        "        folder=EXPORT_FOLDER,\n",
        "        fileNamePrefix='S2_preview_' + suffix,\n",
        "        region=aoi, scale=EXPORT_SCALE, maxPixels=1e13\n",
        "    )\n",
        "    t1.start()\n",
        "\n",
        "    raw = ee.Image(img).select(RAW_BANDS).clip(aoi)\n",
        "    t2 = ee.batch.Export.image.toDrive(\n",
        "        image=raw,\n",
        "        description='S2_raw_' + suffix,\n",
        "        folder=EXPORT_FOLDER,\n",
        "        fileNamePrefix='S2_raw_' + suffix,\n",
        "        region=aoi, scale=EXPORT_SCALE, maxPixels=1e13\n",
        "    )\n",
        "    t2.start()\n",
        "    task_list.append((t1, t2))\n",
        "\n",
        "print(f\"Started {len(task_list)*2} Drive export tasks.\")\n",
        "\n",
        "# --- 8) Export CSV metadata for the picked images only ---\n",
        "\n",
        "def to_feat(img):\n",
        "    return ee.Feature(None, {\n",
        "        'system_index': img.get('system:index'),\n",
        "        'date': img.get('date'),\n",
        "        'aot_mean': img.get('aot_mean'),\n",
        "        'aot_median': img.get('aot_median'),\n",
        "        'cloudprob_mean': img.get('cloudprob_mean'),\n",
        "        'cloudprob_median': img.get('cloudprob_median')\n",
        "    })\n",
        "\n",
        "picked_table = ee.FeatureCollection(picked_imgs.map(to_feat))\n",
        "table_task = ee.batch.Export.table.toDrive(\n",
        "    collection=picked_table,\n",
        "    description='S2_Haze_Metadata',\n",
        "    folder=EXPORT_FOLDER,\n",
        "    fileNamePrefix='S2_Haze_Metadata',\n",
        "    fileFormat='CSV'\n",
        ")\n",
        "table_task.start()\n",
        "print(\"CSV export started.\")\n",
        "\n"
      ],
      "metadata": {
        "id": "cnRT1SX6XLeG",
        "outputId": "730cc8cd-c8d3-46cb-a5f1-79d533ffd8a7",
        "colab": {
          "base_uri": "https://localhost:8080/",
          "height": 964
        }
      },
      "execution_count": 17,
      "outputs": [
        {
          "output_type": "stream",
          "name": "stdout",
          "text": [
            "Candidate images: 1785\n"
          ]
        },
        {
          "output_type": "error",
          "ename": "EEException",
          "evalue": "User memory limit exceeded.",
          "traceback": [
            "\u001b[0;31m---------------------------------------------------------------------------\u001b[0m",
            "\u001b[0;31mHttpError\u001b[0m                                 Traceback (most recent call last)",
            "\u001b[0;32m/usr/local/lib/python3.12/dist-packages/ee/data.py\u001b[0m in \u001b[0;36m_execute_cloud_call\u001b[0;34m(call, num_retries)\u001b[0m\n\u001b[1;32m    408\u001b[0m   \u001b[0;32mtry\u001b[0m\u001b[0;34m:\u001b[0m\u001b[0;34m\u001b[0m\u001b[0;34m\u001b[0m\u001b[0m\n\u001b[0;32m--> 409\u001b[0;31m     \u001b[0;32mreturn\u001b[0m \u001b[0mcall\u001b[0m\u001b[0;34m.\u001b[0m\u001b[0mexecute\u001b[0m\u001b[0;34m(\u001b[0m\u001b[0mnum_retries\u001b[0m\u001b[0;34m=\u001b[0m\u001b[0mnum_retries\u001b[0m\u001b[0;34m)\u001b[0m\u001b[0;34m\u001b[0m\u001b[0;34m\u001b[0m\u001b[0m\n\u001b[0m\u001b[1;32m    410\u001b[0m   \u001b[0;32mexcept\u001b[0m \u001b[0mgoogleapiclient\u001b[0m\u001b[0;34m.\u001b[0m\u001b[0merrors\u001b[0m\u001b[0;34m.\u001b[0m\u001b[0mHttpError\u001b[0m \u001b[0;32mas\u001b[0m \u001b[0me\u001b[0m\u001b[0;34m:\u001b[0m\u001b[0;34m\u001b[0m\u001b[0;34m\u001b[0m\u001b[0m\n",
            "\u001b[0;32m/usr/local/lib/python3.12/dist-packages/googleapiclient/_helpers.py\u001b[0m in \u001b[0;36mpositional_wrapper\u001b[0;34m(*args, **kwargs)\u001b[0m\n\u001b[1;32m    129\u001b[0m                     \u001b[0mlogger\u001b[0m\u001b[0;34m.\u001b[0m\u001b[0mwarning\u001b[0m\u001b[0;34m(\u001b[0m\u001b[0mmessage\u001b[0m\u001b[0;34m)\u001b[0m\u001b[0;34m\u001b[0m\u001b[0;34m\u001b[0m\u001b[0m\n\u001b[0;32m--> 130\u001b[0;31m             \u001b[0;32mreturn\u001b[0m \u001b[0mwrapped\u001b[0m\u001b[0;34m(\u001b[0m\u001b[0;34m*\u001b[0m\u001b[0margs\u001b[0m\u001b[0;34m,\u001b[0m \u001b[0;34m**\u001b[0m\u001b[0mkwargs\u001b[0m\u001b[0;34m)\u001b[0m\u001b[0;34m\u001b[0m\u001b[0;34m\u001b[0m\u001b[0m\n\u001b[0m\u001b[1;32m    131\u001b[0m \u001b[0;34m\u001b[0m\u001b[0m\n",
            "\u001b[0;32m/usr/local/lib/python3.12/dist-packages/googleapiclient/http.py\u001b[0m in \u001b[0;36mexecute\u001b[0;34m(self, http, num_retries)\u001b[0m\n\u001b[1;32m    937\u001b[0m         \u001b[0;32mif\u001b[0m \u001b[0mresp\u001b[0m\u001b[0;34m.\u001b[0m\u001b[0mstatus\u001b[0m \u001b[0;34m>=\u001b[0m \u001b[0;36m300\u001b[0m\u001b[0;34m:\u001b[0m\u001b[0;34m\u001b[0m\u001b[0;34m\u001b[0m\u001b[0m\n\u001b[0;32m--> 938\u001b[0;31m             \u001b[0;32mraise\u001b[0m \u001b[0mHttpError\u001b[0m\u001b[0;34m(\u001b[0m\u001b[0mresp\u001b[0m\u001b[0;34m,\u001b[0m \u001b[0mcontent\u001b[0m\u001b[0;34m,\u001b[0m \u001b[0muri\u001b[0m\u001b[0;34m=\u001b[0m\u001b[0mself\u001b[0m\u001b[0;34m.\u001b[0m\u001b[0muri\u001b[0m\u001b[0;34m)\u001b[0m\u001b[0;34m\u001b[0m\u001b[0;34m\u001b[0m\u001b[0m\n\u001b[0m\u001b[1;32m    939\u001b[0m         \u001b[0;32mreturn\u001b[0m \u001b[0mself\u001b[0m\u001b[0;34m.\u001b[0m\u001b[0mpostproc\u001b[0m\u001b[0;34m(\u001b[0m\u001b[0mresp\u001b[0m\u001b[0;34m,\u001b[0m \u001b[0mcontent\u001b[0m\u001b[0;34m)\u001b[0m\u001b[0;34m\u001b[0m\u001b[0;34m\u001b[0m\u001b[0m\n",
            "\u001b[0;31mHttpError\u001b[0m: <HttpError 400 when requesting https://earthengine.googleapis.com/v1/projects/refusion/value:compute?prettyPrint=false&alt=json returned \"User memory limit exceeded.\". Details: \"User memory limit exceeded.\">",
            "\nDuring handling of the above exception, another exception occurred:\n",
            "\u001b[0;31mEEException\u001b[0m                               Traceback (most recent call last)",
            "\u001b[0;32m/tmp/ipython-input-2908585453.py\u001b[0m in \u001b[0;36m<cell line: 0>\u001b[0;34m()\u001b[0m\n\u001b[1;32m    129\u001b[0m \u001b[0;34m\u001b[0m\u001b[0m\n\u001b[1;32m    130\u001b[0m \u001b[0;31m# Get only the few properties we need to avoid bulky client transfers\u001b[0m\u001b[0;34m\u001b[0m\u001b[0;34m\u001b[0m\u001b[0m\n\u001b[0;32m--> 131\u001b[0;31m \u001b[0midx_list\u001b[0m   \u001b[0;34m=\u001b[0m \u001b[0mpicked_imgs\u001b[0m\u001b[0;34m.\u001b[0m\u001b[0maggregate_array\u001b[0m\u001b[0;34m(\u001b[0m\u001b[0;34m'system:index'\u001b[0m\u001b[0;34m)\u001b[0m\u001b[0;34m.\u001b[0m\u001b[0mgetInfo\u001b[0m\u001b[0;34m(\u001b[0m\u001b[0;34m)\u001b[0m\u001b[0;34m\u001b[0m\u001b[0;34m\u001b[0m\u001b[0m\n\u001b[0m\u001b[1;32m    132\u001b[0m \u001b[0mdate_list\u001b[0m  \u001b[0;34m=\u001b[0m \u001b[0mpicked_imgs\u001b[0m\u001b[0;34m.\u001b[0m\u001b[0maggregate_array\u001b[0m\u001b[0;34m(\u001b[0m\u001b[0;34m'date'\u001b[0m\u001b[0;34m)\u001b[0m\u001b[0;34m.\u001b[0m\u001b[0mgetInfo\u001b[0m\u001b[0;34m(\u001b[0m\u001b[0;34m)\u001b[0m\u001b[0;34m\u001b[0m\u001b[0;34m\u001b[0m\u001b[0m\n\u001b[1;32m    133\u001b[0m \u001b[0maot_list\u001b[0m   \u001b[0;34m=\u001b[0m \u001b[0mpicked_imgs\u001b[0m\u001b[0;34m.\u001b[0m\u001b[0maggregate_array\u001b[0m\u001b[0;34m(\u001b[0m\u001b[0;34m'aot_mean'\u001b[0m\u001b[0;34m)\u001b[0m\u001b[0;34m.\u001b[0m\u001b[0mgetInfo\u001b[0m\u001b[0;34m(\u001b[0m\u001b[0;34m)\u001b[0m\u001b[0;34m\u001b[0m\u001b[0;34m\u001b[0m\u001b[0m\n",
            "\u001b[0;32m/usr/local/lib/python3.12/dist-packages/ee/computedobject.py\u001b[0m in \u001b[0;36mgetInfo\u001b[0;34m(self)\u001b[0m\n\u001b[1;32m    105\u001b[0m       \u001b[0mThe\u001b[0m \u001b[0mobject\u001b[0m \u001b[0mcan\u001b[0m \u001b[0mevaluate\u001b[0m \u001b[0mto\u001b[0m \u001b[0manything\u001b[0m\u001b[0;34m.\u001b[0m\u001b[0;34m\u001b[0m\u001b[0;34m\u001b[0m\u001b[0m\n\u001b[1;32m    106\u001b[0m     \"\"\"\n\u001b[0;32m--> 107\u001b[0;31m     \u001b[0;32mreturn\u001b[0m \u001b[0mdata\u001b[0m\u001b[0;34m.\u001b[0m\u001b[0mcomputeValue\u001b[0m\u001b[0;34m(\u001b[0m\u001b[0mself\u001b[0m\u001b[0;34m)\u001b[0m\u001b[0;34m\u001b[0m\u001b[0;34m\u001b[0m\u001b[0m\n\u001b[0m\u001b[1;32m    108\u001b[0m \u001b[0;34m\u001b[0m\u001b[0m\n\u001b[1;32m    109\u001b[0m   \u001b[0;32mdef\u001b[0m \u001b[0mencode\u001b[0m\u001b[0;34m(\u001b[0m\u001b[0mself\u001b[0m\u001b[0;34m,\u001b[0m \u001b[0mencoder\u001b[0m\u001b[0;34m:\u001b[0m \u001b[0mCallable\u001b[0m\u001b[0;34m[\u001b[0m\u001b[0;34m...\u001b[0m\u001b[0;34m,\u001b[0m \u001b[0mAny\u001b[0m\u001b[0;34m]\u001b[0m \u001b[0;34m|\u001b[0m \u001b[0;32mNone\u001b[0m\u001b[0;34m)\u001b[0m \u001b[0;34m->\u001b[0m \u001b[0mdict\u001b[0m\u001b[0;34m[\u001b[0m\u001b[0mstr\u001b[0m\u001b[0;34m,\u001b[0m \u001b[0mAny\u001b[0m\u001b[0;34m]\u001b[0m\u001b[0;34m:\u001b[0m\u001b[0;34m\u001b[0m\u001b[0;34m\u001b[0m\u001b[0m\n",
            "\u001b[0;32m/usr/local/lib/python3.12/dist-packages/ee/data.py\u001b[0m in \u001b[0;36mcomputeValue\u001b[0;34m(obj)\u001b[0m\n\u001b[1;32m   1126\u001b[0m   \u001b[0m_maybe_populate_workload_tag\u001b[0m\u001b[0;34m(\u001b[0m\u001b[0mbody\u001b[0m\u001b[0;34m)\u001b[0m\u001b[0;34m\u001b[0m\u001b[0;34m\u001b[0m\u001b[0m\n\u001b[1;32m   1127\u001b[0m \u001b[0;34m\u001b[0m\u001b[0m\n\u001b[0;32m-> 1128\u001b[0;31m   return _execute_cloud_call(\n\u001b[0m\u001b[1;32m   1129\u001b[0m       \u001b[0m_get_cloud_projects\u001b[0m\u001b[0;34m(\u001b[0m\u001b[0;34m)\u001b[0m\u001b[0;34m\u001b[0m\u001b[0;34m\u001b[0m\u001b[0m\n\u001b[1;32m   1130\u001b[0m       \u001b[0;34m.\u001b[0m\u001b[0mvalue\u001b[0m\u001b[0;34m(\u001b[0m\u001b[0;34m)\u001b[0m\u001b[0;34m\u001b[0m\u001b[0;34m\u001b[0m\u001b[0m\n",
            "\u001b[0;32m/usr/local/lib/python3.12/dist-packages/ee/data.py\u001b[0m in \u001b[0;36m_execute_cloud_call\u001b[0;34m(call, num_retries)\u001b[0m\n\u001b[1;32m    409\u001b[0m     \u001b[0;32mreturn\u001b[0m \u001b[0mcall\u001b[0m\u001b[0;34m.\u001b[0m\u001b[0mexecute\u001b[0m\u001b[0;34m(\u001b[0m\u001b[0mnum_retries\u001b[0m\u001b[0;34m=\u001b[0m\u001b[0mnum_retries\u001b[0m\u001b[0;34m)\u001b[0m\u001b[0;34m\u001b[0m\u001b[0;34m\u001b[0m\u001b[0m\n\u001b[1;32m    410\u001b[0m   \u001b[0;32mexcept\u001b[0m \u001b[0mgoogleapiclient\u001b[0m\u001b[0;34m.\u001b[0m\u001b[0merrors\u001b[0m\u001b[0;34m.\u001b[0m\u001b[0mHttpError\u001b[0m \u001b[0;32mas\u001b[0m \u001b[0me\u001b[0m\u001b[0;34m:\u001b[0m\u001b[0;34m\u001b[0m\u001b[0;34m\u001b[0m\u001b[0m\n\u001b[0;32m--> 411\u001b[0;31m     \u001b[0;32mraise\u001b[0m \u001b[0m_translate_cloud_exception\u001b[0m\u001b[0;34m(\u001b[0m\u001b[0me\u001b[0m\u001b[0;34m)\u001b[0m  \u001b[0;31m# pylint: disable=raise-missing-from\u001b[0m\u001b[0;34m\u001b[0m\u001b[0;34m\u001b[0m\u001b[0m\n\u001b[0m\u001b[1;32m    412\u001b[0m \u001b[0;34m\u001b[0m\u001b[0m\n\u001b[1;32m    413\u001b[0m \u001b[0;34m\u001b[0m\u001b[0m\n",
            "\u001b[0;31mEEException\u001b[0m: User memory limit exceeded."
          ]
        }
      ]
    },
    {
      "cell_type": "code",
      "source": [
        "\n",
        "# =========================\n",
        "# Sentinel-2 Haze Sampler & Exporter (Drive)\n",
        "# =========================\n",
        "# - Selects N scenes evenly across the haze spectrum using AOT (L2A)\n",
        "# - Exports: RGB preview TIFFs + raw stack (B2,B3,B4,B8,AOT,SCL) + CSV metadata\n",
        "# - Fully server-side selection (no large getInfo pulls)\n",
        "# =========================\n",
        "\n",
        "# ---- 0) Setup & Auth ----\n",
        "!pip -q install earthengine-api --upgrade\n",
        "import ee\n",
        "try:\n",
        "    ee.Initialize()\n",
        "except Exception:\n",
        "    ee.Authenticate()\n",
        "    ee.Initialize(project='refusion')   # or ee.Initialize() if you don't use a GCP project\n",
        "\n",
        "# ---- 1) PARAMETERS (EDIT THESE) ----\n",
        "LAT, LON = 24.7136, 46.6753      # AOI center (example: Riyadh). Change for your region.\n",
        "RADIUS_KM = 60                   # AOI radius in km (reduce if you still hit limits)\n",
        "START, END = '2023-01-01', '2025-01-01'\n",
        "MAX_CLOUD_PROB = 60              # filter by CLOUDY_PIXEL_PERCENTAGE (S2 metadata)\n",
        "N_IMAGES = 10                    # how many scenes you want (e.g., 10 or 30)\n",
        "EXPORT_SCALE = 10                # meters (10m native for B2/3/4/8)\n",
        "EXPORT_FOLDER = 'S2_Haze_Paper'  # Google Drive folder name (auto-created by EE if missing)\n",
        "\n",
        "# Bands to export (raw stack)\n",
        "RAW_BANDS = ['B2','B3','B4','B8','AOT','SCL']\n",
        "\n",
        "# ---- 2) AOI ----\n",
        "aoi = ee.Geometry.Point([LON, LAT]).buffer(RADIUS_KM * 1000).bounds()\n",
        "\n",
        "# ---- 3) Collections: S2 SR (L2A) + s2cloudless probability ----\n",
        "s2_sr = (ee.ImageCollection('COPERNICUS/S2_SR_HARMONIZED')\n",
        "         .filterDate(START, END)\n",
        "         .filterBounds(aoi))\n",
        "\n",
        "s2_cp = (ee.ImageCollection('COPERNICUS/S2_CLOUD_PROBABILITY')\n",
        "         .filterDate(START, END)\n",
        "         .filterBounds(aoi))\n",
        "\n",
        "# Proper Python Join: saveFirst takes positional property name\n",
        "def join_cloud_prob(sr_col, cp_col):\n",
        "    jfilter = ee.Filter.equals(leftField='system:index', rightField='system:index')\n",
        "    j = ee.Join.saveFirst('cloudprob')\n",
        "    joined = j.apply(primary=sr_col, secondary=cp_col, condition=jfilter)\n",
        "\n",
        "    # keep only images that matched s2cloudless and add 'probability' band\n",
        "    def add_cp(img):\n",
        "        cp = ee.Image(img.get('cloudprob'))  # s2cloudless image\n",
        "        return ee.Image(img).addBands(cp.rename('probability'))\n",
        "    return (ee.ImageCollection(joined)\n",
        "            .filter(ee.Filter.notNull(['cloudprob']))\n",
        "            .map(add_cp))\n",
        "\n",
        "s2 = join_cloud_prob(s2_sr, s2_cp)\n",
        "\n",
        "# ---- 4) Filter & sanity bands ----\n",
        "s2 = (s2.filter(ee.Filter.lt('CLOUDY_PIXEL_PERCENTAGE', MAX_CLOUD_PROB))\n",
        "         .filter(ee.Filter.listContains('system:band_names', 'AOT'))\n",
        "         .filter(ee.Filter.listContains('system:band_names', 'SCL'))\n",
        "         .filter(ee.Filter.listContains('system:band_names', 'B2'))\n",
        "         .filter(ee.Filter.listContains('system:band_names', 'B3'))\n",
        "         .filter(ee.Filter.listContains('system:band_names', 'B4'))\n",
        "         .filter(ee.Filter.listContains('system:band_names', 'B8')))\n",
        "\n",
        "# ---- 5) Add haze/cloud metrics (use cheaper reduction) ----\n",
        "def add_metrics(img):\n",
        "    stats = img.select(['AOT','probability']).reduceRegion(\n",
        "        reducer=ee.Reducer.mean().combine(ee.Reducer.median(), sharedInputs=True),\n",
        "        geometry=aoi,\n",
        "        scale=60,          # cheaper than 20m; good enough for ranking scenes\n",
        "        tileScale=2,\n",
        "        maxPixels=1e13\n",
        "    )\n",
        "    return img.set({\n",
        "        'aot_mean': stats.get('AOT_mean'),\n",
        "        'aot_median': stats.get('AOT_median'),\n",
        "        'cloudprob_mean': stats.get('probability_mean'),\n",
        "        'cloudprob_median': stats.get('probability_median'),\n",
        "        'date': ee.Date(img.get('system:time_start')).format('YYYY-MM-dd')\n",
        "    })\n",
        "\n",
        "s2_metrics = s2.map(add_metrics).filter(ee.Filter.notNull(['aot_mean']))\n",
        "\n",
        "# Early exit if nothing (fully server-side, no big getInfo)\n",
        "empty_check = s2_metrics.size()\n",
        "# optional: print a tiny number (safe) — comment out if you prefer zero client I/O\n",
        "print('Candidate images (server-side):', empty_check.getInfo())\n",
        "if empty_check.getInfo() == 0:\n",
        "    raise SystemExit(\"No Sentinel-2 images matched filters. Widen dates/area or increase MAX_CLOUD_PROB.\")\n",
        "\n",
        "# ---- 6) Pick N images evenly across haze (AOT) range (server-side) ----\n",
        "# Get min/max AOT over collection\n",
        "minmax = s2_metrics.reduceColumns(\n",
        "    reducer=ee.Reducer.min().combine(ee.Reducer.max(), sharedInputs=True),\n",
        "    selectors=['aot_mean']\n",
        ")\n",
        "aot_min = ee.Number(minmax.get('min'))\n",
        "aot_max = ee.Number(minmax.get('max'))\n",
        "\n",
        "# Build thresholds list between min..max\n",
        "def build_thresholds(a_min, a_max, n):\n",
        "    n = ee.Number(n)\n",
        "    step = a_max.subtract(a_min).divide(n.subtract(1))\n",
        "    return ee.Algorithms.If(\n",
        "        a_max.gt(a_min),\n",
        "        ee.List.sequence(a_min, a_max, step),\n",
        "        ee.List.repeat(a_min, n)  # fallback if all equals\n",
        "    )\n",
        "\n",
        "thresholds = ee.List(build_thresholds(aot_min, aot_max, N_IMAGES))\n",
        "\n",
        "# For each threshold t, grab the first image with aot_mean >= t\n",
        "def pick_at_threshold(t):\n",
        "    t = ee.Number(t)\n",
        "    return s2_metrics.filter(ee.Filter.gte('aot_mean', t)).sort('aot_mean').first()\n",
        "\n",
        "picked_imgs = (ee.ImageCollection.fromImages(thresholds.map(pick_at_threshold))\n",
        "               .filter(ee.Filter.notNull(['system:time_start'])))\n",
        "\n",
        "# Top-up if fewer than requested\n",
        "picked_imgs = ee.ImageCollection(ee.Algorithms.If(\n",
        "    picked_imgs.size().gte(N_IMAGES),\n",
        "    picked_imgs.limit(N_IMAGES),\n",
        "    picked_imgs.merge(s2_metrics.sort('aot_mean').limit(N_IMAGES)).limit(N_IMAGES)\n",
        "))\n",
        "\n",
        "# ---- 7) Exports (Drive). NO large getInfo calls. ----\n",
        "vis_rgb = {'bands': ['B4','B3','B2'], 'min': 0, 'max': 3000, 'gamma': 1.1}\n",
        "\n",
        "# Get a server-side list (exactly N) to index deterministically\n",
        "picked_list = picked_imgs.toList(N_IMAGES)\n",
        "\n",
        "def export_by_index(i):\n",
        "    i = int(i)\n",
        "    img = ee.Image(picked_list.get(i))\n",
        "    tag = f\"{i+1:02d}\"  # 01..N for filenames\n",
        "\n",
        "    # RGB quicklook\n",
        "    ee.batch.Export.image.toDrive(\n",
        "        image=img.visualize(**vis_rgb).clip(aoi),\n",
        "        description=f'S2_preview_{tag}',\n",
        "        folder=EXPORT_FOLDER,\n",
        "        fileNamePrefix=f'S2_preview_{tag}',\n",
        "        region=aoi, scale=EXPORT_SCALE, maxPixels=1e13\n",
        "    ).start()\n",
        "\n",
        "    # Raw stack\n",
        "    ee.batch.Export.image.toDrive(\n",
        "        image=img.select(RAW_BANDS).clip(aoi),\n",
        "        description=f'S2_raw_{tag}',\n",
        "        folder=EXPORT_FOLDER,\n",
        "        fileNamePrefix=f'S2_raw_{tag}',\n",
        "        region=aoi, scale=EXPORT_SCALE, maxPixels=1e13\n",
        "    ).start()\n",
        "\n",
        "for i in range(int(N_IMAGES)):\n",
        "    export_by_index(i)\n",
        "\n",
        "print(f\"Started {int(N_IMAGES)*2} Drive export tasks (RGB+RAW). Check the 'Tasks' tab.\")\n",
        "\n",
        "# ---- 8) Metadata CSV for the picked images (server-side only) ----\n",
        "def to_feat(img):\n",
        "    return ee.Feature(None, {\n",
        "        'system_index': img.get('system:index'),\n",
        "        'date': img.get('date'),\n",
        "        'aot_mean': img.get('aot_mean'),\n",
        "        'aot_median': img.get('aot_median'),\n",
        "        'cloudprob_mean': img.get('cloudprob_mean'),\n",
        "        'cloudprob_median': img.get('cloudprob_median')\n",
        "    })\n",
        "\n",
        "picked_table = ee.FeatureCollection(picked_imgs.map(to_feat))\n",
        "ee.batch.Export.table.toDrive(\n",
        "    collection=picked_table,\n",
        "    description='S2_Haze_Metadata',\n",
        "    folder=EXPORT_FOLDER,\n",
        "    fileNamePrefix='S2_Haze_Metadata',\n",
        "    fileFormat='CSV'\n",
        ").start()\n",
        "\n",
        "print(\"CSV export started (Drive folder:\", EXPORT_FOLDER, \").\")\n",
        "\n"
      ],
      "metadata": {
        "id": "OZxgxXBsXMDC",
        "outputId": "200b3580-abea-4b21-c42f-ee6ab6b8603e",
        "colab": {
          "base_uri": "https://localhost:8080/"
        }
      },
      "execution_count": 18,
      "outputs": [
        {
          "output_type": "stream",
          "name": "stderr",
          "text": [
            "WARNING:googleapiclient.http:Sleeping 1.34 seconds before retry 1 of 5 for request: POST https://earthengine.googleapis.com/v1/projects/refusion/value:compute?prettyPrint=false&alt=json, after 503\n"
          ]
        },
        {
          "output_type": "stream",
          "name": "stdout",
          "text": [
            "Candidate images (server-side): 1785\n",
            "Started 20 Drive export tasks (RGB+RAW). Check the 'Tasks' tab.\n",
            "CSV export started (Drive folder: S2_Haze_Paper ).\n"
          ]
        }
      ]
    },
    {
      "cell_type": "code",
      "source": [
        "import ee\n",
        "tasks = ee.batch.Task.list()\n",
        "for t in tasks:\n",
        "    st = t.status()\n",
        "    print(st.get('description'), st.get('state'), st.get('error_message'))\n",
        "\n"
      ],
      "metadata": {
        "id": "UfidTu3ucNmC",
        "outputId": "12940451-2b15-4a6f-e79d-245220914bae",
        "colab": {
          "base_uri": "https://localhost:8080/"
        }
      },
      "execution_count": 22,
      "outputs": [
        {
          "output_type": "stream",
          "name": "stdout",
          "text": [
            "S2_Haze_Metadata READY None\n",
            "S2_raw_10 READY None\n",
            "S2_preview_10 READY None\n",
            "S2_raw_09 READY None\n",
            "S2_preview_09 READY None\n",
            "S2_raw_08 READY None\n",
            "S2_preview_08 READY None\n",
            "S2_raw_07 READY None\n",
            "S2_preview_07 READY None\n",
            "S2_raw_06 READY None\n",
            "S2_preview_06 READY None\n",
            "S2_raw_05 READY None\n",
            "S2_preview_05 READY None\n",
            "S2_raw_04 READY None\n",
            "S2_preview_04 READY None\n",
            "S2_raw_03 READY None\n",
            "S2_preview_03 READY None\n",
            "S2_raw_02 READY None\n",
            "S2_preview_02 READY None\n",
            "S2_raw_01 RUNNING None\n",
            "S2_preview_01 COMPLETED None\n"
          ]
        }
      ]
    },
    {
      "cell_type": "code",
      "source": [
        "EXPORT_FOLDER = 'S2_Haze_Paper'\n"
      ],
      "metadata": {
        "id": "n75v5mK3dlbN"
      },
      "execution_count": 23,
      "outputs": []
    },
    {
      "cell_type": "code",
      "source": [
        "EXPORT_FOLDER = 'S2_Haze_Paper (1)'\n"
      ],
      "metadata": {
        "id": "V3rIswwveX-s"
      },
      "execution_count": 24,
      "outputs": []
    },
    {
      "cell_type": "code",
      "source": [
        "import os\n",
        "!ls -lh \"/content/drive/My Drive/S2_Haze_Paper (1)\"\n"
      ],
      "metadata": {
        "id": "Zdjft-dVdqFQ",
        "outputId": "c5cb2975-37b8-450a-b9c8-88b86990174c",
        "colab": {
          "base_uri": "https://localhost:8080/"
        }
      },
      "execution_count": 25,
      "outputs": [
        {
          "output_type": "stream",
          "name": "stdout",
          "text": [
            "total 0\n"
          ]
        }
      ]
    },
    {
      "cell_type": "code",
      "source": [],
      "metadata": {
        "id": "JUmzrTYNdwY8"
      },
      "execution_count": null,
      "outputs": []
    }
  ]
}